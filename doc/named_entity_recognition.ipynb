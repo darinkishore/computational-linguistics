{
 "cells": [
  {
   "cell_type": "markdown",
   "id": "optical-temperature",
   "metadata": {},
   "source": [
    "# Named Entity Recognition\n",
    "\n",
    "## References\n",
    "\n",
    "* [Named Entities and Named Entity Tagging](https://web.stanford.edu/~jurafsky/slp3/8.pdf), Chapter 8.3, Speech and Language Processing\n",
    "* [Aho–Corasick Algorithm](https://en.wikipedia.org/wiki/Aho%E2%80%93Corasick_algorithm)\n",
    "\n",
    "\n",
    "## Contents\n",
    "\n",
    "* [Named Entity Tags](#Named-Entity-Tags)\n",
    "* [Token-level Recognition](#Token-level-Recognition)\n",
    "* [BIO Notation](#BIO-Notation)\n",
    "* [BILOU Notation](#BILOU-Notation)\n",
    "* [NER with Gazetteer](#NER-with-Gazetteer)\n",
    "* [NER using Prefix Tree](#NER-using-Prefix-Tree)"
   ]
  },
  {
   "cell_type": "markdown",
   "id": "pretty-memphis",
   "metadata": {},
   "source": [
    "## Named Entity Tags\n",
    "\n",
    "A named entity is a sequence of tokens representing the name of any entity:\n",
    "\n",
    "```\n",
    "Jinho is a professor at Emory University in the United States\n",
    "```\n",
    "\n",
    "* \"Jinho\" &rarr; Person\n",
    "* \"Emory University\" &rarr; Organization\n",
    "* \"the United States\" &rarr; Location\n",
    "\n",
    "\n",
    "The [OntoNotes](https://github.com/emorynlp/swne/blob/main/docs/ontonotes_named_entity_guidelines-v14.pdf) defines a fine-grained tagset that comprises 17 named entities:\n",
    "\n",
    "| Tag | Description |\n",
    "|:---|:---|\n",
    "| `PER`     | Person |\n",
    "| `NORP`    | Nationality, other, religion, political |\n",
    "| `FAC`     | Facilities: man-made infrastructures |\n",
    "| `ORG`     | Organizations: names of companies, educational institutions, sports teams, terrorist groups |\n",
    "| `GPE`     | Geographical political entities: names of countries, cities, provinces |\n",
    "| `LOC`     | Locations |\n",
    "| `REL`     | Named religions or political leanings |\n",
    "| `PRODUCT` | Product names or numbers |\n",
    "| `DATE`    | References to dates or periods longer than 24 hours |\n",
    "| `TIME`    | References to periods of time less than 24 hours |\n",
    "| `MONEY`   | Monetary units but not units in rate expressions |\n",
    "| `QUAN`    | Quantity: measurements with explicit standardized units |\n",
    "| `CARD`    | Cardinal: numbers that do not fall under measurements, money, date, time |\n",
    "| `EVENT`   | Named hurricanes, wars, sports events, battles |\n",
    "| `WOA`     | Work of art: titles of books, songs, television programs, awards |\n",
    "| `LAW`     | Documents that have been made into law |\n",
    "| `LANG`    | Language |"
   ]
  },
  {
   "cell_type": "markdown",
   "id": "featured-royalty",
   "metadata": {},
   "source": [
    "## Token-level Recognition\n",
    "\n",
    "It is possible to label each token with a named entity tag (`O`: not named entity):\n",
    "\n",
    "```\n",
    "Jinho         PER\n",
    "is            O\n",
    "a             O\n",
    "professor     O\n",
    "at            O\n",
    "Emory         ORG\n",
    "University    ORG\n",
    "in            O\n",
    "the           O\n",
    "United        GPE\n",
    "States        GPE\n",
    "of            GPE\n",
    "America       GPE\n",
    "```\n",
    "\n",
    "Once you label each token, same techniques used to classify POS tags can be adapted to predict the named entity tag of every token."
   ]
  },
  {
   "cell_type": "markdown",
   "id": "correct-rugby",
   "metadata": {},
   "source": [
    "## BIO Notation\n",
    "\n",
    "Let us consider the following example where named entities appear in consecutive order without punctuation, which happens quite often in colloquial writing (e.g., social media) or spoken language:\n",
    "\n",
    "\n",
    "```\n",
    "I        O\n",
    "met      O\n",
    "Sam      PER\n",
    "John     PER\n",
    "and      O\n",
    "Sarah    PER\n",
    "```\n",
    "\n",
    "With this notation, it is not possible to distinguish whether `Sam` and `John` should be one or two entities.\n",
    "\n",
    "We can decorate each named entity tag with the following prefixes:\n",
    "\n",
    "* `B-`: the beginning token of an entity\n",
    "* `I-`: an inside token of an entity\n",
    "\n",
    "Given this notation, the above examples can be tagged as follows:\n",
    "\n",
    "```\n",
    "I        O\n",
    "met      O\n",
    "Sam      B-PER\n",
    "John     B-PER\n",
    "and      O\n",
    "Sarah    B-PER\n",
    "```\n",
    "\n",
    "With the BIO-notation, it is possible to recognize `Sam` and `John` as two separate entities since they both are indicated as the beginning tokens.\n",
    "\n",
    "The previous example can be relabeled as follows:\n",
    "\n",
    "```\n",
    "Jinho         B-PER\n",
    "is            O\n",
    "a             O\n",
    "professor     O\n",
    "at            O\n",
    "Emory         B-ORG\n",
    "University    I-ORG\n",
    "in            O\n",
    "the           O\n",
    "United        B-GPE\n",
    "States        I-GPE\n",
    "of            I-GPE\n",
    "America       I-GPE\n",
    "```"
   ]
  },
  {
   "cell_type": "markdown",
   "id": "accepting-bundle",
   "metadata": {},
   "source": [
    "### Examples\n",
    "\n",
    "```\n",
    "Emory       ORG\n",
    "University  ORG\n",
    "Whitehall   LOC | PER\n",
    "\n",
    "Emory       B-ORG\n",
    "University  I-ORG\n",
    "Whitehall   B-LOC | B-PER\n",
    "\n",
    "I           O\n",
    "went        O\n",
    "to          O\n",
    "Emory       B-ORG\n",
    "University  I-ORG\n",
    "and         O\n",
    "University  B-ORG\n",
    "of          I-ORG\n",
    "Georgia     I-ORG\n",
    "\n",
    "I           O\n",
    "went        O\n",
    "to          O\n",
    "Emory       ORG\n",
    "University  ORG\n",
    "University  ORG\n",
    "of          ORG\n",
    "Georgia     ORG\n",
    "\n",
    "I           O\n",
    "went        O\n",
    "to          O\n",
    "Emory       B-ORG\n",
    "University  I-ORG\n",
    "University  B-ORG\n",
    "of          I-ORG\n",
    "Georgia     I-ORG\n",
    "\n",
    "I           O\n",
    "went        O\n",
    "to          O\n",
    "Emory       B-ORG\n",
    "University  I-ORG | B-ORG\n",
    "of          I-ORG\n",
    "Georgia     I-ORG\n",
    "```"
   ]
  },
  {
   "cell_type": "markdown",
   "id": "finnish-georgia",
   "metadata": {},
   "source": [
    "## BILOU Notation\n",
    "\n",
    "[Ratinov and Roth, 2009](https://www.aclweb.org/anthology/W09-1119/) proposed to decorate the BIO notation further by adding the following two prefixes:\n",
    "\n",
    "* `L`: the last token of an entity\n",
    "* `U`: an unit entity consisting of only one token\n",
    "\n",
    "Given the BILOU notation, the previous example can be relabeled as follows:\n",
    "\n",
    "```\n",
    "Jinho         U-PER\n",
    "is            O\n",
    "a             O\n",
    "professor     O\n",
    "at            O\n",
    "Emory         B-ORG\n",
    "University    L-ORG\n",
    "in            O\n",
    "the           O\n",
    "United        B-GPE\n",
    "States        I-GPE\n",
    "of            I-GPE\n",
    "America       L-GPE\n",
    "```"
   ]
  },
  {
   "cell_type": "markdown",
   "id": "complicated-pledge",
   "metadata": {},
   "source": [
    "### Examples\n",
    "\n",
    "```\n",
    "United        B-GPE\n",
    "States        L-GPE\n",
    "of            I-GPE\n",
    "America       L-GPE\n",
    "```"
   ]
  },
  {
   "cell_type": "markdown",
   "id": "infinite-congress",
   "metadata": {},
   "source": [
    "## NER with Gazetteer\n",
    "\n",
    "A gazetteer is a dictionary of lexicons indicating entity groups.\n",
    "\n",
    "### Exercise\n",
    "\n",
    "Write the function `recognize_ngram()` that takes a sequence of tokens and a gazetteer and returns a list of entities where each entity is represented by a tuple consisting of the following 4 items:\n",
    "\n",
    "* Index of the beginning token (inclusive)\n",
    "* Index of the ending token (exclusive)\n",
    "* Text span representing the entity (e.g., \"Emory University\")\n",
    "* Set of named entity tags for the entity"
   ]
  },
  {
   "cell_type": "code",
   "execution_count": 8,
   "id": "simple-mississippi",
   "metadata": {},
   "outputs": [],
   "source": [
    "from typing import Dict, List, Tuple, Set\n",
    "\n",
    "def recognize_ngram(tokens: List[str], gazetteer: Dict[str, Set[str]]) -> List[Tuple[int, int, str, Set[str]]]:\n",
    "    \"\"\"\n",
    "    :param tokens: a sequence of input tokens.\n",
    "    :param gazetteer: a dictionary whose key is the text span of a named entity (e.g., \"Emory University\") and the value is the set of named entity tags for the entity.\n",
    "    :return: a list of entities where each entity is represented by a tuple consisting of the following 4 items:\n",
    "             - Index of the beginning token (inclusive)\n",
    "             - Index of the ending token (exclusive)\n",
    "             - Text span representing the entity (e.g., \"Emory University\")\n",
    "             - Set of named entity tags for the entity\n",
    "    \"\"\"\n",
    "    entities = []\n",
    "    # To be filled\n",
    "    return entities"
   ]
  },
  {
   "cell_type": "code",
   "execution_count": 12,
   "id": "nonprofit-lounge",
   "metadata": {},
   "outputs": [],
   "source": [
    "GAZETTEER = {\n",
    "    'Jinho': {'PER'},\n",
    "    'Jinho Choi': {'PER'},\n",
    "    'Emory': {'PER', 'ORG'},\n",
    "    'Emory University': {'ORG'},\n",
    "    'United States': {'GPE'},\n",
    "    'United States of America': {'GPE'},\n",
    "}"
   ]
  },
  {
   "cell_type": "code",
   "execution_count": 13,
   "id": "joint-stranger",
   "metadata": {},
   "outputs": [
    {
     "name": "stdout",
     "output_type": "stream",
     "text": [
      "(0, 1, 'Jinho', {'PER'})\n",
      "(0, 2, 'Jinho Choi', {'PER'})\n",
      "(6, 7, 'Emory', {'PER', 'ORG'})\n",
      "(6, 8, 'Emory University', {'ORG'})\n",
      "(10, 12, 'United States', {'GPE'})\n",
      "(10, 14, 'United States of America', {'GPE'})\n"
     ]
    }
   ],
   "source": [
    "text = 'Jinho Choi is a professor at Emory University in the United States of America'\n",
    "tokens = text.split()\n",
    "\n",
    "entities = recognize_ngram(tokens, GAZETTEER)\n",
    "for entity in entities: print(entity)"
   ]
  },
  {
   "cell_type": "markdown",
   "id": "smart-honduras",
   "metadata": {},
   "source": [
    "## NER using Prefix Tree\n",
    "\n",
    "The `recgonize_ngram()` function requires $O(n^2)$ search that can be very slow.\n",
    "In this case, using a more advanced data structure such as [Trie](https://en.wikipedia.org/wiki/Trie) (aka. prefix tree) can significantly reduce the search complexity.\n",
    "In the following example, we will use the [Aho–Corasick Algorithm](https://en.wikipedia.org/wiki/Aho%E2%80%93Corasick_algorithm) that is based on Trie but more efficient in saving millions of entries."
   ]
  },
  {
   "cell_type": "markdown",
   "id": "compressed-thursday",
   "metadata": {},
   "source": [
    "Let us define a new gazetteer:"
   ]
  },
  {
   "cell_type": "code",
   "execution_count": 15,
   "id": "flush-saying",
   "metadata": {},
   "outputs": [],
   "source": [
    "GAZETTEER = [\n",
    "    ('Jinho', 'PER'),\n",
    "    ('Jinho Choi', 'PER'),\n",
    "    ('Emory', 'PER'),\n",
    "    ('Emory', 'ORG'),\n",
    "    ('Emory University', 'ORG'),\n",
    "    ('United States', 'GPE'),\n",
    "    ('United States of America', 'GPE'),\n",
    "    ('Korean', 'LANG'),\n",
    "    ('Korea', 'GPE'),\n",
    "    ('South Korea', 'GPE'),\n",
    "]"
   ]
  },
  {
   "cell_type": "markdown",
   "id": "entertaining-prompt",
   "metadata": {},
   "source": [
    "Let us import the `ahocorasick` package:"
   ]
  },
  {
   "cell_type": "code",
   "execution_count": 4,
   "id": "honey-housing",
   "metadata": {},
   "outputs": [
    {
     "name": "stdout",
     "output_type": "stream",
     "text": [
      "Collecting pyahocorasick\n",
      "  Using cached pyahocorasick-1.4.1.tar.gz (321 kB)\n",
      "Using legacy 'setup.py install' for pyahocorasick, since package 'wheel' is not installed.\n",
      "Installing collected packages: pyahocorasick\n",
      "    Running setup.py install for pyahocorasick ... \u001b[?25ldone\n",
      "\u001b[?25hSuccessfully installed pyahocorasick-1.4.1\n",
      "\u001b[33mWARNING: You are using pip version 20.3.3; however, version 21.0.1 is available.\n",
      "You should consider upgrading via the '/Users/jdchoi/workspace/cs329/venv/bin/python -m pip install --upgrade pip' command.\u001b[0m\n"
     ]
    }
   ],
   "source": [
    "!pip install pyahocorasick\n",
    "import ahocorasick"
   ]
  },
  {
   "cell_type": "markdown",
   "id": "israeli-federal",
   "metadata": {},
   "source": [
    "* [`pyahocorasick`](https://pyahocorasick.readthedocs.io)"
   ]
  },
  {
   "cell_type": "markdown",
   "id": "incredible-brazil",
   "metadata": {},
   "source": [
    "We then write the `create_ac()` function to create the Aho-Corasick automation and add all entries in the gazetteer:"
   ]
  },
  {
   "cell_type": "code",
   "execution_count": 16,
   "id": "capable-brain",
   "metadata": {},
   "outputs": [],
   "source": [
    "from typing import Iterable, Tuple, Any\n",
    "from types import SimpleNamespace\n",
    "\n",
    "def create_ac(data: Iterable[Tuple[str, Any]]):\n",
    "    \"\"\"\n",
    "    Creates the Aho-Corasick automation and adds all (span, value) pairs in the data and finalizes this matcher.\n",
    "    :param data: a collection of (span, value) pairs.\n",
    "    \"\"\"\n",
    "    AC = ahocorasick.Automaton(ahocorasick.STORE_ANY)\n",
    "\n",
    "    for span, value in data:\n",
    "        if span in AC:\n",
    "            t = AC.get(span)\n",
    "        else:\n",
    "            t = SimpleNamespace(span=span, values=set())\n",
    "            AC.add_word(span, t)\n",
    "        t.values.add(value)\n",
    "\n",
    "    AC.make_automaton()\n",
    "    return AC"
   ]
  },
  {
   "cell_type": "code",
   "execution_count": 18,
   "id": "assisted-softball",
   "metadata": {},
   "outputs": [],
   "source": [
    "AC = create_ac(GAZETTEER)"
   ]
  },
  {
   "cell_type": "code",
   "execution_count": 19,
   "id": "hybrid-garage",
   "metadata": {},
   "outputs": [
    {
     "name": "stdout",
     "output_type": "stream",
     "text": [
      "18 namespace(span='Korea', values={'GPE'})\n",
      "19 namespace(span='Korean', values={'LANG'})\n",
      "47 namespace(span='United States', values={'GPE'})\n",
      "58 namespace(span='United States of America', values={'GPE'})\n"
     ]
    }
   ],
   "source": [
    "text = 'Dr. Choi is a Korean living in the United States of America '\n",
    "tokens = text.split()\n",
    "\n",
    "for eidx, t in AC.iter(text):\n",
    "    print(eidx, t)"
   ]
  },
  {
   "cell_type": "markdown",
   "id": "turned-valley",
   "metadata": {},
   "source": [
    "### Exercise\n",
    "\n",
    "Write a function `match"
   ]
  }
 ],
 "metadata": {
  "kernelspec": {
   "display_name": "Python 3",
   "language": "python",
   "name": "python3"
  },
  "language_info": {
   "codemirror_mode": {
    "name": "ipython",
    "version": 3
   },
   "file_extension": ".py",
   "mimetype": "text/x-python",
   "name": "python",
   "nbconvert_exporter": "python",
   "pygments_lexer": "ipython3",
   "version": "3.9.1"
  }
 },
 "nbformat": 4,
 "nbformat_minor": 5
}
