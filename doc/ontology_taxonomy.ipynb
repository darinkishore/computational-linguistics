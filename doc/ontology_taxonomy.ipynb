{
 "cells": [
  {
   "cell_type": "markdown",
   "metadata": {},
   "source": [
    "# Ontology and Taxonomy\n",
    "\n",
    "## Reference\n",
    "\n",
    "* [WordNet Webpage](https://wordnet.princeton.edu)\n",
    "* [WordNet Online](http://wordnetweb.princeton.edu/perl/webwn)\n",
    "* [NLTK: WordNet Interface](https://www.nltk.org/howto/wordnet.html)\n",
    "\n",
    "## Contents\n",
    "\n",
    "* [Concepts](#Concepts)\n",
    "  * [Ontology](#Ontology)\n",
    "  * [Taxonomy](#Taxonomy)\n",
    "* [WordNet](#WordNet)\n",
    "  * [Installation](#Installation)\n",
    "  * [Senses](#Senses)\n",
    "  * [Synonyms](#Synonyms)\n",
    "  * [Antonyms](#Antonyms)\n",
    "  * [Lexical Relations](#Lexical-Relations)\n",
    "  * [Hyponyms](#Hyponyms)\n",
    "  * [Hypernyms](#Hypernyms)\n",
    "  * [Similarities](#Similarities)\n",
    "  * [Entailments](#Entailments)\n",
    "  * [Troponyms](#Troponyms)"
   ]
  },
  {
   "cell_type": "code",
   "execution_count": 1,
   "metadata": {},
   "outputs": [
    {
     "data": {
      "text/html": [
       "<style>table {margin-left: 0 !important;}</style>"
      ],
      "text/plain": [
       "<IPython.core.display.HTML object>"
      ]
     },
     "metadata": {},
     "output_type": "display_data"
    }
   ],
   "source": [
    "# to left-algin the tables below\n",
    "from IPython.core.display import display, HTML\n",
    "display(HTML(\"<style>table {margin-left: 0 !important;}</style>\"))"
   ]
  },
  {
   "cell_type": "markdown",
   "metadata": {},
   "source": [
    "## Concepts\n",
    "\n",
    "### Ontology\n",
    "\n",
    "* Nature of being, becoming, existence, or reality, as well as the basic categories of being and their relations.\n",
    "* Types, properties, and interrelationships of the entities that fundamentally exist for a particular domain of discourse.\n",
    "\n",
    "### Taxonomy\n",
    "\n",
    "* The science of classification according to a pre-determined system.\n",
    "* Resulting catalog used to provide a conceptual framework for discussion, analysis, or information retrieval.\n",
    "\n",
    "<img src=\"res/taxonomy.png\" style=\"float:left; width: 350px;\"/>"
   ]
  },
  {
   "cell_type": "markdown",
   "metadata": {},
   "source": [
    "## WordNet\n",
    "\n",
    "A lexical database that groups nouns, verbs, adjectives and adverbs into sets of cognitive synsets interlinked by conceptual-semantic and [lexical relations](#Lexical-Relations).\n",
    "\n",
    "| Category | Words | Synsets | Senses |\n",
    "|:---:|---:|---:|---:|\n",
    "| Noun | 117,798 | 82,115 | 146,312 |\n",
    "| Verb | 11,529 | 13,767 | 25,047 |\n",
    "| Adjective | 21,479 | 18,156 | 30,002 |\n",
    "| Adverb | 4,481 | 3,621 | 5,580 |\n",
    "| Total | 155,287 | 117,659 | 206,941 |"
   ]
  },
  {
   "cell_type": "markdown",
   "metadata": {},
   "source": [
    "### Installation\n",
    "\n",
    "Verify the SSL (Secure Sockets Layer) certificate:"
   ]
  },
  {
   "cell_type": "code",
   "execution_count": 3,
   "metadata": {},
   "outputs": [],
   "source": [
    "import ssl\n",
    "\n",
    "try:\n",
    "    _create_unverified_https_context = ssl._create_unverified_context\n",
    "except AttributeError:\n",
    "    pass\n",
    "else:\n",
    "    ssl._create_default_https_context = _create_unverified_https_context"
   ]
  },
  {
   "cell_type": "markdown",
   "metadata": {},
   "source": [
    "Install WordNet from [NLTK](https://www.nltk.org)"
   ]
  },
  {
   "cell_type": "code",
   "execution_count": 4,
   "metadata": {},
   "outputs": [
    {
     "name": "stderr",
     "output_type": "stream",
     "text": [
      "[nltk_data] Downloading package wordnet to /Users/jdchoi/nltk_data...\n",
      "[nltk_data]   Package wordnet is already up-to-date!\n"
     ]
    },
    {
     "data": {
      "text/plain": [
       "True"
      ]
     },
     "execution_count": 4,
     "metadata": {},
     "output_type": "execute_result"
    }
   ],
   "source": [
    "import nltk\n",
    "nltk.download('wordnet')"
   ]
  },
  {
   "cell_type": "markdown",
   "metadata": {},
   "source": [
    "### Senses\n",
    "\n",
    "A word can have multiple meanings, in other words, senses (e.g., [chair](http://wordnetweb.princeton.edu/perl/webwn?s=chair&sub=Search+WordNet&o2=&o0=1&o8=1&o1=1&o7=&o5=&o9=&o6=&o3=&o4=&h=))\n",
    "\n",
    "* How find-grained do word senses need to be?\n",
    "* Can we automatically distinguish word senses?"
   ]
  },
  {
   "cell_type": "markdown",
   "metadata": {},
   "source": [
    "Retrieve all senses of a word as the list of [Synset](https://www.nltk.org/api/nltk.corpus.reader.html?highlight=synset#nltk.corpus.reader.wordnet.Synset):"
   ]
  },
  {
   "cell_type": "code",
   "execution_count": 5,
   "metadata": {},
   "outputs": [
    {
     "data": {
      "text/plain": [
       "[Synset('chair.n.01'),\n",
       " Synset('professorship.n.01'),\n",
       " Synset('president.n.04'),\n",
       " Synset('electric_chair.n.01'),\n",
       " Synset('chair.n.05'),\n",
       " Synset('chair.v.01'),\n",
       " Synset('moderate.v.01')]"
      ]
     },
     "execution_count": 5,
     "metadata": {},
     "output_type": "execute_result"
    }
   ],
   "source": [
    "from nltk.corpus import wordnet as wn\n",
    "wn.synsets('chair')"
   ]
  },
  {
   "cell_type": "markdown",
   "metadata": {},
   "source": [
    "You can specify the part-of-speech (tag) of the word:\n",
    "\n",
    "* `n`: noun\n",
    "* `v`: verb\n",
    "* `a`: adjective\n",
    "* `r`: adverb"
   ]
  },
  {
   "cell_type": "code",
   "execution_count": 6,
   "metadata": {},
   "outputs": [
    {
     "data": {
      "text/plain": [
       "[Synset('chair.n.01'),\n",
       " Synset('professorship.n.01'),\n",
       " Synset('president.n.04'),\n",
       " Synset('electric_chair.n.01'),\n",
       " Synset('chair.n.05')]"
      ]
     },
     "execution_count": 6,
     "metadata": {},
     "output_type": "execute_result"
    }
   ],
   "source": [
    "chairs = wn.synsets('chair', pos='n')\n",
    "chairs"
   ]
  },
  {
   "cell_type": "markdown",
   "metadata": {},
   "source": [
    "Retrieve the synset directly from the sense ID:"
   ]
  },
  {
   "cell_type": "code",
   "execution_count": 7,
   "metadata": {},
   "outputs": [
    {
     "name": "stdout",
     "output_type": "stream",
     "text": [
      "True\n",
      "False\n"
     ]
    }
   ],
   "source": [
    "chair_0 = wn.synset('chair.n.01')\n",
    "\n",
    "print(chair_0 == chairs[0])\n",
    "print(chair_0 == chairs[1])"
   ]
  },
  {
   "cell_type": "markdown",
   "metadata": {},
   "source": [
    "### Synonyms\n",
    "\n",
    "Each sense can group its own set of synonyms."
   ]
  },
  {
   "cell_type": "markdown",
   "metadata": {},
   "source": [
    "Retrieve all synonyms of a word sense as the list of [Lemma](https://www.nltk.org/api/nltk.corpus.reader.html?highlight=lemma#nltk.corpus.reader.wordnet.Lemma):"
   ]
  },
  {
   "cell_type": "code",
   "execution_count": 8,
   "metadata": {},
   "outputs": [
    {
     "data": {
      "text/plain": [
       "[Lemma('dog.n.01.dog'),\n",
       " Lemma('dog.n.01.domestic_dog'),\n",
       " Lemma('dog.n.01.Canis_familiaris')]"
      ]
     },
     "execution_count": 8,
     "metadata": {},
     "output_type": "execute_result"
    }
   ],
   "source": [
    "dog_0 = wn.synset('dog.n.01')\n",
    "dog_0_lemmas = dog_0.lemmas()\n",
    "dog_0_lemmas"
   ]
  },
  {
   "cell_type": "markdown",
   "metadata": {},
   "source": [
    "Retrieve only the surface forms (lemmas) of the synonyms:"
   ]
  },
  {
   "cell_type": "code",
   "execution_count": 7,
   "metadata": {},
   "outputs": [
    {
     "data": {
      "text/plain": [
       "['dog', 'domestic_dog', 'Canis_familiaris']"
      ]
     },
     "execution_count": 7,
     "metadata": {},
     "output_type": "execute_result"
    }
   ],
   "source": [
    "dog_0_lemmas_forms = [l.name() for l in dog_0_lemmas]\n",
    "dog_0_lemmas_forms"
   ]
  },
  {
   "cell_type": "markdown",
   "metadata": {},
   "source": [
    "Retrieve the `Lemma` object directly from the sense ID:"
   ]
  },
  {
   "cell_type": "code",
   "execution_count": 8,
   "metadata": {},
   "outputs": [
    {
     "name": "stdout",
     "output_type": "stream",
     "text": [
      "Lemma('dog.n.01.dog')\n",
      "Lemma('dog.n.01.Canis_familiaris')\n"
     ]
    }
   ],
   "source": [
    "lemma_dog = wn.lemma('dog.n.01.dog')\n",
    "lemma_canis = wn.lemma('dog.n.01.Canis_familiaris')\n",
    "print(lemma_dog)\n",
    "print(lemma_canis)"
   ]
  },
  {
   "cell_type": "markdown",
   "metadata": {},
   "source": [
    "Retrieve the frequency of the lemma:"
   ]
  },
  {
   "cell_type": "code",
   "execution_count": 9,
   "metadata": {},
   "outputs": [
    {
     "name": "stdout",
     "output_type": "stream",
     "text": [
      "42\n",
      "0\n"
     ]
    }
   ],
   "source": [
    "print(lemma_dog.count())\n",
    "print(lemma_canis.count())"
   ]
  },
  {
   "cell_type": "markdown",
   "metadata": {},
   "source": [
    "### Exercise\n",
    "\n",
    "Write a function that takes a word, an optional POS tag as well as an optional count, and returns the lemma set of all synonyms of the word:"
   ]
  },
  {
   "cell_type": "code",
   "execution_count": 53,
   "metadata": {},
   "outputs": [],
   "source": [
    "from typing import Optional, Set\n",
    "\n",
    "def synonyms(word: str, pos: Optional[str] = None, count: Optional[int] = 0) -> Set[str]:\n",
    "    \"\"\"\n",
    "    :param word: the word to retrieve synonyms for.\n",
    "    :param pos: the part-of-speech tag of the word; if None, retrieve synonyms across all part-of-speeches.\n",
    "    :param count: the minimum frequency of the synonym to be retrieved.\n",
    "    :return: the lemma set of all synonyms of the specific word.\n",
    "    \"\"\"\n",
    "    syns = set()\n",
    "    # To be updated\n",
    "    return syns"
   ]
  },
  {
   "cell_type": "markdown",
   "metadata": {},
   "source": [
    "* [Default arguments in Python](https://docs.python.org/3.9/tutorial/controlflow.html#default-argument-values)\n",
    "* [Typing in Python](https://docs.python.org/3/library/typing.html)"
   ]
  },
  {
   "cell_type": "code",
   "execution_count": 54,
   "metadata": {},
   "outputs": [
    {
     "data": {
      "text/plain": [
       "{'Canis_familiaris',\n",
       " 'andiron',\n",
       " 'blackguard',\n",
       " 'bounder',\n",
       " 'cad',\n",
       " 'click',\n",
       " 'detent',\n",
       " 'dog',\n",
       " 'dog-iron',\n",
       " 'domestic_dog',\n",
       " 'firedog',\n",
       " 'frank',\n",
       " 'frankfurter',\n",
       " 'frump',\n",
       " 'heel',\n",
       " 'hot_dog',\n",
       " 'hotdog',\n",
       " 'hound',\n",
       " 'pawl',\n",
       " 'weenie',\n",
       " 'wiener',\n",
       " 'wienerwurst'}"
      ]
     },
     "execution_count": 54,
     "metadata": {},
     "output_type": "execute_result"
    }
   ],
   "source": [
    "synonyms('dog', 'n')"
   ]
  },
  {
   "cell_type": "code",
   "execution_count": 55,
   "metadata": {},
   "outputs": [
    {
     "data": {
      "text/plain": [
       "{'dog', 'hound'}"
      ]
     },
     "execution_count": 55,
     "metadata": {},
     "output_type": "execute_result"
    }
   ],
   "source": [
    "synonyms('dog', 'n', 1)"
   ]
  },
  {
   "cell_type": "code",
   "execution_count": 56,
   "metadata": {},
   "outputs": [
    {
     "data": {
      "text/plain": [
       "{'chase', 'dog', 'go_after', 'hound', 'track', 'trail'}"
      ]
     },
     "execution_count": 56,
     "metadata": {},
     "output_type": "execute_result"
    }
   ],
   "source": [
    "synonyms('dog', count=1)"
   ]
  },
  {
   "cell_type": "markdown",
   "metadata": {},
   "source": [
    "### Antonyms\n",
    "\n",
    "You can also rerieve antonyms of the lemma:"
   ]
  },
  {
   "cell_type": "code",
   "execution_count": 10,
   "metadata": {},
   "outputs": [
    {
     "name": "stdout",
     "output_type": "stream",
     "text": [
      "buy [Lemma('sell.v.01.sell')]\n",
      "purchase []\n"
     ]
    }
   ],
   "source": [
    "buy = wn.synset('buy.v.01')\n",
    "for l in buy.lemmas():\n",
    "    print(l.name(), l.antonyms())"
   ]
  },
  {
   "cell_type": "markdown",
   "metadata": {},
   "source": [
    "### Lexical Relations\n",
    "\n",
    "A comprehensive set of lexical relations are available in WordNet:\n",
    "\n",
    "* Synonym\n",
    "* Antonym\n",
    "* Hyponym\n",
    "* Hypernym\n",
    "* Meronym\n",
    "\n",
    "Slides: https://www.slideshare.net/jchoi7s/cs329-lexical-relations"
   ]
  },
  {
   "cell_type": "markdown",
   "metadata": {},
   "source": [
    "### Hyponyms\n",
    "\n",
    "`(E1) is a kind of (E2)`\n",
    "* A **horse** is a _kind of_ an **animal**.\n",
    "* **Ambling** is a _kind of_ **walking**.\n",
    "\n",
    "Multiple hyponyms\n",
    "* A **mule** is a _kind of_ a **donkey** and a **horse**.\n",
    "* **Ambling** is a _kind of_ **walking** and **being slow**."
   ]
  },
  {
   "cell_type": "markdown",
   "metadata": {},
   "source": [
    "Retrieve the direct hyponyms"
   ]
  },
  {
   "cell_type": "code",
   "execution_count": 9,
   "metadata": {},
   "outputs": [
    {
     "data": {
      "text/plain": [
       "[Synset('armchair.n.01'),\n",
       " Synset('barber_chair.n.01'),\n",
       " Synset('chair_of_state.n.01'),\n",
       " Synset('chaise_longue.n.01'),\n",
       " Synset('eames_chair.n.01'),\n",
       " Synset('fighting_chair.n.01'),\n",
       " Synset('folding_chair.n.01'),\n",
       " Synset('highchair.n.01'),\n",
       " Synset('ladder-back.n.01'),\n",
       " Synset('lawn_chair.n.01'),\n",
       " Synset('rocking_chair.n.01'),\n",
       " Synset('straight_chair.n.01'),\n",
       " Synset('swivel_chair.n.01'),\n",
       " Synset('tablet-armed_chair.n.01'),\n",
       " Synset('wheelchair.n.01')]"
      ]
     },
     "execution_count": 9,
     "metadata": {},
     "output_type": "execute_result"
    }
   ],
   "source": [
    "chair_0.hyponyms()"
   ]
  },
  {
   "cell_type": "code",
   "execution_count": 10,
   "metadata": {},
   "outputs": [
    {
     "data": {
      "text/plain": [
       "[Synset('basenji.n.01'),\n",
       " Synset('corgi.n.01'),\n",
       " Synset('cur.n.01'),\n",
       " Synset('dalmatian.n.02'),\n",
       " Synset('great_pyrenees.n.01'),\n",
       " Synset('griffon.n.02'),\n",
       " Synset('hunting_dog.n.01'),\n",
       " Synset('lapdog.n.01'),\n",
       " Synset('leonberg.n.01'),\n",
       " Synset('mexican_hairless.n.01'),\n",
       " Synset('newfoundland.n.01'),\n",
       " Synset('pooch.n.01'),\n",
       " Synset('poodle.n.01'),\n",
       " Synset('pug.n.01'),\n",
       " Synset('puppy.n.01'),\n",
       " Synset('spitz.n.01'),\n",
       " Synset('toy_dog.n.01'),\n",
       " Synset('working_dog.n.01')]"
      ]
     },
     "execution_count": 10,
     "metadata": {},
     "output_type": "execute_result"
    }
   ],
   "source": [
    "dog_0.hyponyms()"
   ]
  },
  {
   "cell_type": "markdown",
   "metadata": {},
   "source": [
    "### Hypernyms\n",
    "\n",
    "Retreive the direct hypernyms:"
   ]
  },
  {
   "cell_type": "code",
   "execution_count": 11,
   "metadata": {},
   "outputs": [
    {
     "data": {
      "text/plain": [
       "[Synset('seat.n.03')]"
      ]
     },
     "execution_count": 11,
     "metadata": {},
     "output_type": "execute_result"
    }
   ],
   "source": [
    "chair_0.hypernyms()"
   ]
  },
  {
   "cell_type": "code",
   "execution_count": 12,
   "metadata": {},
   "outputs": [
    {
     "data": {
      "text/plain": [
       "[Synset('canine.n.02'), Synset('domestic_animal.n.01')]"
      ]
     },
     "execution_count": 12,
     "metadata": {},
     "output_type": "execute_result"
    }
   ],
   "source": [
    "dog_0.hypernyms()"
   ]
  },
  {
   "cell_type": "markdown",
   "metadata": {},
   "source": [
    "Retrieve all indrect hypernyms:"
   ]
  },
  {
   "cell_type": "code",
   "execution_count": 13,
   "metadata": {},
   "outputs": [
    {
     "data": {
      "text/plain": [
       "[[Synset('entity.n.01'),\n",
       "  Synset('physical_entity.n.01'),\n",
       "  Synset('object.n.01'),\n",
       "  Synset('whole.n.02'),\n",
       "  Synset('artifact.n.01'),\n",
       "  Synset('instrumentality.n.03'),\n",
       "  Synset('furnishing.n.02'),\n",
       "  Synset('furniture.n.01'),\n",
       "  Synset('seat.n.03'),\n",
       "  Synset('chair.n.01')]]"
      ]
     },
     "execution_count": 13,
     "metadata": {},
     "output_type": "execute_result"
    }
   ],
   "source": [
    "chair_0.hypernym_paths()"
   ]
  },
  {
   "cell_type": "code",
   "execution_count": 14,
   "metadata": {},
   "outputs": [
    {
     "data": {
      "text/plain": [
       "[[Synset('entity.n.01'),\n",
       "  Synset('physical_entity.n.01'),\n",
       "  Synset('object.n.01'),\n",
       "  Synset('whole.n.02'),\n",
       "  Synset('living_thing.n.01'),\n",
       "  Synset('organism.n.01'),\n",
       "  Synset('animal.n.01'),\n",
       "  Synset('chordate.n.01'),\n",
       "  Synset('vertebrate.n.01'),\n",
       "  Synset('mammal.n.01'),\n",
       "  Synset('placental.n.01'),\n",
       "  Synset('carnivore.n.01'),\n",
       "  Synset('canine.n.02'),\n",
       "  Synset('dog.n.01')],\n",
       " [Synset('entity.n.01'),\n",
       "  Synset('physical_entity.n.01'),\n",
       "  Synset('object.n.01'),\n",
       "  Synset('whole.n.02'),\n",
       "  Synset('living_thing.n.01'),\n",
       "  Synset('organism.n.01'),\n",
       "  Synset('animal.n.01'),\n",
       "  Synset('domestic_animal.n.01'),\n",
       "  Synset('dog.n.01')]]"
      ]
     },
     "execution_count": 14,
     "metadata": {},
     "output_type": "execute_result"
    }
   ],
   "source": [
    "dog_0.hypernym_paths()"
   ]
  },
  {
   "cell_type": "markdown",
   "metadata": {},
   "source": [
    "## Lowest Common Hypernyms\n",
    "\n",
    "NLTK already provides a method to find the lowest common hypernyms:"
   ]
  },
  {
   "cell_type": "code",
   "execution_count": 15,
   "metadata": {
    "scrolled": true
   },
   "outputs": [
    {
     "data": {
      "text/plain": [
       "[Synset('carnivore.n.01')]"
      ]
     },
     "execution_count": 15,
     "metadata": {},
     "output_type": "execute_result"
    }
   ],
   "source": [
    "dog = wn.synset('dog.n.01')\n",
    "cat = wn.synset('cat.n.01')\n",
    "dog.lowest_common_hypernyms(cat)"
   ]
  },
  {
   "cell_type": "markdown",
   "metadata": {},
   "source": [
    "### Exercise\n",
    "\n",
    "Write a function that takes two sense IDs, finds the lowest common hypernyms, and returns the path from each lowest common hypernym to its root:"
   ]
  },
  {
   "cell_type": "code",
   "execution_count": 60,
   "metadata": {},
   "outputs": [],
   "source": [
    "from typing import List\n",
    "from nltk.corpus.reader import Synset\n",
    "\n",
    "def lch_paths(sense_0: str, sense_1: str) -> List[List[Synset]]:\n",
    "    \"\"\"\n",
    "    :param sense_0: the ID of the first sense.\n",
    "    :param sense_1: the ID of the second sense.\n",
    "    :return: the list of LCH paths where each LCH path shows the path from the LCD to its root.\n",
    "    \"\"\"\n",
    "    paths = []\n",
    "    # To be updated\n",
    "    return paths"
   ]
  },
  {
   "cell_type": "code",
   "execution_count": 59,
   "metadata": {},
   "outputs": [
    {
     "name": "stdout",
     "output_type": "stream",
     "text": [
      "entity.n.01 -> physical_entity.n.01 -> object.n.01 -> whole.n.02 -> living_thing.n.01 -> organism.n.01 -> animal.n.01 -> chordate.n.01 -> vertebrate.n.01 -> mammal.n.01 -> placental.n.01 -> carnivore.n.01\n"
     ]
    }
   ],
   "source": [
    "paths = lch_paths('dog.n.01', 'cat.n.01')\n",
    "for path in paths:\n",
    "    print(' -> '.join([syn.name() for syn in path]))"
   ]
  },
  {
   "cell_type": "markdown",
   "metadata": {},
   "source": [
    "## Similarities\n",
    "\n",
    "How to measure the similarity between two senses?\n",
    "\n",
    "Slides: https://www.slideshare.net/jchoi7s/cs329-wordnet-similarities\n",
    "\n",
    "### References\n",
    "\n",
    "* [Verb Semantics and Lexical Selection](https://www.aclweb.org/anthology/P94-1019/), Wu and Palmer, 1994.\n",
    "* [Using Information Content to Evaluate Semantic Similarity in a Taxonomy](https://arxiv.org/abs/cmp-lg/9511007), Resnik, 1995.\n",
    "* [Semantic Similarity Based on Corpus Statistics and Lexical Taxonomy](https://www.aclweb.org/anthology/O97-1002/), Jiang and Conrath, 1997\n",
    "* [Combining Local Context and Wordnet Similarity for Word Sense Identification](https://ieeexplore.ieee.org/document/6287675/authors#authors),  Fellbaum and Miller, 1998.\n",
    "* [An Information-Theoretic Definition of Similarity](http://citeseerx.ist.psu.edu/viewdoc/summary?doi=10.1.1.55.1832), Lin, 1998."
   ]
  },
  {
   "cell_type": "code",
   "execution_count": 16,
   "metadata": {},
   "outputs": [
    {
     "name": "stdout",
     "output_type": "stream",
     "text": [
      "PTH: 0.2\n",
      "LCH: 2.0281482472922856\n",
      "WUP: 0.8571428571428571\n"
     ]
    }
   ],
   "source": [
    "print('PTH: {}'.format(dog.path_similarity(cat)))\n",
    "print('LCH: {}'.format(dog.lch_similarity(cat)))\n",
    "print('WUP: {}'.format(dog.wup_similarity(cat)))"
   ]
  },
  {
   "cell_type": "markdown",
   "metadata": {},
   "source": [
    "## Entailments\n",
    "\n",
    "If (`V1` is true), then (`V2` must be true):\n",
    "* If (A is **snoring**), then (A must be **sleeping**)\n",
    "\n",
    "Unless `V1` and `V2` are synonyms, the converse is not true\n",
    "* If (A is **sleeping**), then (A must be **snoring**)\n",
    "\n",
    "The contradiction is true\n",
    "* If (A is **not sleeping**), then (A must **not** be **snoring**)\n",
    "\n",
    "Temporal inclusion\n",
    "* `T(V1)` &sube; `T(V2)`: If (A is **snoring**), then (A must be **sleeping**).\n",
    "* `T(V1)` &supe; `T(V2)`: If (A **bought** B), then (A must have **paid** for B).\n",
    "* `T(V1)` = `T(V2)`: If (A is **marching**), then (A must be **walking**)."
   ]
  },
  {
   "cell_type": "code",
   "execution_count": 17,
   "metadata": {},
   "outputs": [
    {
     "data": {
      "text/plain": [
       "[Synset('sleep.v.01')]"
      ]
     },
     "execution_count": 17,
     "metadata": {},
     "output_type": "execute_result"
    }
   ],
   "source": [
    "# wn.entailments('snore.v.01')\n",
    "snore_ents = wn.synset('snore.v.01').entailments()\n",
    "snore_ents"
   ]
  },
  {
   "cell_type": "markdown",
   "metadata": {},
   "source": [
    "## Troponyms\n",
    "\n",
    "(To `V1`) is (to `V2`) in some particular manner.\n",
    "\n",
    "* (To **shout**) is (to **talk**) _loud_.\n",
    "* (To **amble**) is (to **walk**) in _slow, relaxed manner_."
   ]
  }
 ],
 "metadata": {
  "kernelspec": {
   "display_name": "Python 3",
   "language": "python",
   "name": "python3"
  },
  "language_info": {
   "codemirror_mode": {
    "name": "ipython",
    "version": 3
   },
   "file_extension": ".py",
   "mimetype": "text/x-python",
   "name": "python",
   "nbconvert_exporter": "python",
   "pygments_lexer": "ipython3",
   "version": "3.9.1"
  }
 },
 "nbformat": 4,
 "nbformat_minor": 4
}