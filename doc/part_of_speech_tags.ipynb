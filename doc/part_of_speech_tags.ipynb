{
 "cells": [
  {
   "cell_type": "markdown",
   "metadata": {},
   "source": [
    "# Part-of-Speech Tags\n",
    "\n",
    "## References\n",
    "\n",
    "* [English Word Classes](https://web.stanford.edu/~jurafsky/slp3/8.pdf), Chapter 8.1, Speech and Language Processing\n",
    "* [Part-of-Speech Tagging](https://web.stanford.edu/~jurafsky/slp3/8.pdf), Chapter 8.2, Speech and Language Processing\n",
    "\n",
    "## Contents\n",
    "\n",
    "* [Part-of-Speech Tagset](#Part-of-Speech-Tagset)\n",
    "* [Download Data](#Download-Data)\n",
    "* [Read Data](#Read-Data)\n",
    "* [Predict Data](#Predict-Data)"
   ]
  },
  {
   "cell_type": "code",
   "execution_count": 1,
   "metadata": {},
   "outputs": [
    {
     "data": {
      "text/html": [
       "<style>table {margin-left: 0 !important;}</style>"
      ],
      "text/plain": [
       "<IPython.core.display.HTML object>"
      ]
     },
     "metadata": {},
     "output_type": "display_data"
    }
   ],
   "source": [
    "# to left-algin the tables below\n",
    "from IPython.core.display import display, HTML\n",
    "display(HTML(\"<style>table {margin-left: 0 !important;}</style>\"))"
   ]
  },
  {
   "cell_type": "markdown",
   "metadata": {},
   "source": [
    "## Part-of-Speech Tagset\n",
    "\n",
    "A part-of-speech (POS) is a category to which a word is assigned in accordance with its syntactic functions.\n",
    "\n",
    "```\n",
    "John    Noun\n",
    "is      Verb\n",
    "a       Determiner\n",
    "boy     Noun\n",
    ".       Punctuation\n",
    "```\n",
    "\n",
    "The [Penn Treebank](https://www.aclweb.org/anthology/J93-2004/) project defined a fine-grained POS tagset, that was extended by the [OntoNotes](https://www.aclweb.org/anthology/W13-3516/) project:\n",
    "\n",
    "### Words\n",
    "\n",
    "| Tag | Description | Tag | Description |\n",
    "|:---|:---|:---|:---|\n",
    "| `ADD` | Email                                   | `POS` | Possessive ending |\n",
    "| `AFX` | Affix                                   | `PRP` | Personal pronoun |\n",
    "| `CC` | Coordinating conjunction                 | `PRP$` | Possessive pronoun  |\n",
    "| `CD` | Cardinal number                          | `RB` | Adverb |\n",
    "| `CODE` | Code ID                                | `RBR` | Adverb, comparative |\n",
    "| `DT` | Determiner                               | `RBS` | Adverb, superlative |\n",
    "| `EX` | Existential there                        | `RP` | Particle |\n",
    "| `FW` | Foreign word                             | `TO` | To |\n",
    "| `GW` | Go with                                  | `UH` | Interjection |\n",
    "| `IN` | Preposition or subordinating conjunction | `VB` | Verb, base form |\n",
    "| `JJ` | Adjective                                | `VBD` | Verb, past tense |\n",
    "| `JJR` | Adjective, comparative                  | `VBG` | Verb, gerund or present participle |\n",
    "| `JJS` | Adjective, superlative                  | `VBN` | Verb, past participle |\n",
    "| `LS` | List item marker                         | `VBP` | Verb, non-3rd person singular present |\n",
    "| `MD` | Modal                                    | `VBZ` | Verb, 3rd person singular present |\n",
    "| `NN` | Noun, singular or mass                   | `WDT` | *Wh*-determiner |\n",
    "| `NNS` | Noun, plural                            | `WP` | *Wh*-pronoun |\n",
    "| `NNP` | Proper noun, singular                   | `WP$` | *Wh*-pronoun, possessive |\n",
    "| `NNPS` | Proper noun, plural                    | `WRB` | *Wh*-adverb |\n",
    "| `PDT` | Predeterminer                           | `XX` | Unknown |\n",
    "\n",
    "### Symbols\n",
    "\n",
    "| Tag | Description | Tag | Description |\n",
    "|:---|:---|:---|:---|\n",
    "| `$` | Dollar | `-LRB-` | Left bracket |\n",
    "| `:` | Colon | `-RRB-` | Right bracket |\n",
    "| `,` | Comma | `HYPH` | Hyphen |\n",
    "| `.` | Period | `NFP` | Superfluous punctuation |\n",
    "| ` `` ` | Left quote | `SYM` | Symbol |\n",
    "| `''` | Right quote | `PUNC` | General punctuation |"
   ]
  },
  {
   "cell_type": "markdown",
   "metadata": {},
   "source": [
    "## Download Data\n",
    "\n",
    "Retrieve the path to the `cs329` project:"
   ]
  },
  {
   "cell_type": "code",
   "execution_count": 15,
   "metadata": {},
   "outputs": [
    {
     "name": "stdout",
     "output_type": "stream",
     "text": [
      "/Users/jdchoi/workspace/cs329 <class 'pathlib.PosixPath'>\n"
     ]
    }
   ],
   "source": [
    "from pathlib import Path\n",
    "\n",
    "path = Path.cwd()\n",
    "\n",
    "while path.name != 'cs329':\n",
    "    path = path.parent\n",
    "\n",
    "print(path, type(path))"
   ]
  },
  {
   "cell_type": "markdown",
   "metadata": {},
   "source": [
    "* [`pathlib`](https://docs.python.org/3/library/pathlib.html)"
   ]
  },
  {
   "cell_type": "markdown",
   "metadata": {},
   "source": [
    "Create the `dat/pos` directory under the `cs329` project:"
   ]
  },
  {
   "cell_type": "code",
   "execution_count": 16,
   "metadata": {},
   "outputs": [
    {
     "name": "stdout",
     "output_type": "stream",
     "text": [
      "/Users/jdchoi/workspace/cs329/dat/pos\n"
     ]
    }
   ],
   "source": [
    "path /= 'dat/pos'\n",
    "path.mkdir(parents=True, exist_ok=True)\n",
    "print(path)"
   ]
  },
  {
   "cell_type": "markdown",
   "metadata": {},
   "source": [
    "* [`Path.mkdir()`](https://docs.python.org/3/library/pathlib.html#pathlib.Path.mkdir)"
   ]
  },
  {
   "cell_type": "markdown",
   "metadata": {},
   "source": [
    "Download the [training set](https://raw.githubusercontent.com/emory-courses/cs329/master/dat/pos/wsj-pos.trn.gold.tsv) and the [development set](https://raw.githubusercontent.com/emory-courses/cs329/master/dat/pos/wsj-pos.dev.gold.tsv) for part-of-speech tagging:"
   ]
  },
  {
   "cell_type": "code",
   "execution_count": 11,
   "metadata": {},
   "outputs": [],
   "source": [
    "import requests\n",
    "\n",
    "def download(remote_addr: str, local_addr: str):\n",
    "    r = requests.get(remote_addr)\n",
    "\n",
    "    with open(local_addr, 'wb') as fin:\n",
    "        fin.write(r.content)"
   ]
  },
  {
   "cell_type": "markdown",
   "metadata": {},
   "source": [
    "* [`requests`](https://requests.readthedocs.io/en/master/user/quickstart/)"
   ]
  },
  {
   "cell_type": "code",
   "execution_count": 12,
   "metadata": {},
   "outputs": [],
   "source": [
    "import os\n",
    "\n",
    "url = 'https://raw.githubusercontent.com/emory-courses/cs329/master/dat/pos/wsj-pos.{}.gold.tsv'\n",
    "\n",
    "remote = url.format('trn')\n",
    "download(remote, path / Path(remote).name)\n",
    "\n",
    "remote = url.format('dev')\n",
    "download(remote, path / Path(remote).name)"
   ]
  },
  {
   "cell_type": "markdown",
   "metadata": {},
   "source": [
    "## Read Data\n",
    "\n",
    "Retrieve the training data:"
   ]
  },
  {
   "cell_type": "code",
   "execution_count": 17,
   "metadata": {},
   "outputs": [],
   "source": [
    "def read_data(filename: str):\n",
    "    data, sentence = [], []\n",
    "    fin = open(filename)\n",
    "    \n",
    "    for line in fin:\n",
    "        l = line.split()\n",
    "        if l:\n",
    "            sentence.append((l[0], l[1]))\n",
    "        else:\n",
    "            data.append(sentence)\n",
    "            sentence = []\n",
    "    \n",
    "    return data"
   ]
  },
  {
   "cell_type": "code",
   "execution_count": 18,
   "metadata": {},
   "outputs": [
    {
     "name": "stdout",
     "output_type": "stream",
     "text": [
      "38219\n",
      "[('Pierre', 'NNP'), ('Vinken', 'NNP'), (',', ','), ('61', 'CD'), ('years', 'NNS'), ('old', 'JJ'), (',', ','), ('will', 'MD'), ('join', 'VB'), ('the', 'DT'), ('board', 'NN'), ('as', 'IN'), ('a', 'DT'), ('nonexecutive', 'JJ'), ('director', 'NN'), ('Nov.', 'NNP'), ('29', 'CD'), ('.', '.')]\n"
     ]
    }
   ],
   "source": [
    "trn_data = read_data(path / 'wsj-pos.trn.gold.tsv')\n",
    "print(len(trn_data))\n",
    "print(trn_data[0])"
   ]
  },
  {
   "cell_type": "markdown",
   "metadata": {},
   "source": [
    "Write the function `word_count()` that counts the number of words in the training data:"
   ]
  },
  {
   "cell_type": "code",
   "execution_count": 19,
   "metadata": {},
   "outputs": [],
   "source": [
    "from typing import List, Tuple\n",
    "\n",
    "def word_count(data: List[List[Tuple[str, str]]]) -> int:\n",
    "    \"\"\"\n",
    "    :param data: a list of tuple list where each inner list represents a sentence and every tuple is a (word, pos) pair.\n",
    "    :return: the total number of words in the data\n",
    "    \"\"\"\n",
    "    return sum([len(sentence) for sentence in data])"
   ]
  },
  {
   "cell_type": "code",
   "execution_count": 20,
   "metadata": {},
   "outputs": [
    {
     "name": "stdout",
     "output_type": "stream",
     "text": [
      "912344\n"
     ]
    }
   ],
   "source": [
    "print(word_count(trn_data))"
   ]
  },
  {
   "cell_type": "markdown",
   "metadata": {},
   "source": [
    "## Predict Data\n",
    "\n",
    "### Exercise\n",
    "\n",
    "Write the function `create_uni_pos_dict()` that reads data and returns a dictionary where the key is a word and the value is the list of possible POS tags with probabilities in descending order such that:\n",
    "\n",
    "$$\n",
    "P(p|w) = \\frac{Count(w,p)}{Count(w)}\n",
    "$$"
   ]
  },
  {
   "cell_type": "code",
   "execution_count": 3,
   "metadata": {},
   "outputs": [],
   "source": [
    "from collections import Counter\n",
    "from typing import Dict\n",
    "\n",
    "def create_uni_pos_dict(data: List[List[Tuple[str, str]]]) -> Dict[str, List[Tuple[str, float]]]:\n",
    "    \"\"\"\n",
    "    :param data: a list of tuple lists where each inner list represents a sentence and every tuple is a (word, pos) pair.\n",
    "    :return: a dictionary where the key is a word and the value is the list of possible POS tags with probabilities in descending order.\n",
    "    \"\"\"\n",
    "    model = dict()\n",
    "    # To be updated\n",
    "    return model"
   ]
  },
  {
   "cell_type": "markdown",
   "metadata": {},
   "source": [
    "* [`collections.Counter`](https://docs.python.org/3/library/collections.html#collections.Counter)"
   ]
  },
  {
   "cell_type": "code",
   "execution_count": null,
   "metadata": {},
   "outputs": [],
   "source": []
  },
  {
   "cell_type": "code",
   "execution_count": null,
   "metadata": {},
   "outputs": [],
   "source": []
  },
  {
   "cell_type": "code",
   "execution_count": null,
   "metadata": {},
   "outputs": [],
   "source": []
  },
  {
   "cell_type": "code",
   "execution_count": null,
   "metadata": {},
   "outputs": [],
   "source": []
  },
  {
   "cell_type": "markdown",
   "metadata": {},
   "source": [
    "NLTK provides a POS tagger that takes a list of tokens and predicts the POS tags of those tokens:"
   ]
  },
  {
   "cell_type": "code",
   "execution_count": 33,
   "metadata": {},
   "outputs": [],
   "source": [
    "import ssl\n",
    "\n",
    "try:\n",
    "    _create_unverified_https_context = ssl._create_unverified_context\n",
    "except AttributeError:\n",
    "    pass\n",
    "else:\n",
    "    ssl._create_default_https_context = _create_unverified_https_context"
   ]
  },
  {
   "cell_type": "code",
   "execution_count": 34,
   "metadata": {},
   "outputs": [
    {
     "name": "stderr",
     "output_type": "stream",
     "text": [
      "[nltk_data] Downloading package punkt to /Users/jdchoi/nltk_data...\n",
      "[nltk_data]   Package punkt is already up-to-date!\n",
      "[nltk_data] Downloading package averaged_perceptron_tagger to\n",
      "[nltk_data]     /Users/jdchoi/nltk_data...\n",
      "[nltk_data]   Package averaged_perceptron_tagger is already up-to-\n",
      "[nltk_data]       date!\n"
     ]
    },
    {
     "data": {
      "text/plain": [
       "True"
      ]
     },
     "execution_count": 34,
     "metadata": {},
     "output_type": "execute_result"
    }
   ],
   "source": [
    "import nltk\n",
    "\n",
    "nltk.download('punkt')\n",
    "nltk.download('averaged_perceptron_tagger')"
   ]
  },
  {
   "cell_type": "code",
   "execution_count": 35,
   "metadata": {},
   "outputs": [
    {
     "name": "stdout",
     "output_type": "stream",
     "text": [
      "['I', 'bought', 'a', 'car', 'yesterday', 'that', 'was', 'blue', '.']\n"
     ]
    }
   ],
   "source": [
    "tokens = nltk.word_tokenize(\"I bought a car yesterday that was blue.\")\n",
    "print(tokens)"
   ]
  },
  {
   "cell_type": "code",
   "execution_count": 36,
   "metadata": {},
   "outputs": [
    {
     "data": {
      "text/plain": [
       "[('I', 'PRP'),\n",
       " ('bought', 'VBD'),\n",
       " ('a', 'DT'),\n",
       " ('car', 'NN'),\n",
       " ('yesterday', 'NN'),\n",
       " ('that', 'WDT'),\n",
       " ('was', 'VBD'),\n",
       " ('blue', 'JJ'),\n",
       " ('.', '.')]"
      ]
     },
     "execution_count": 36,
     "metadata": {},
     "output_type": "execute_result"
    }
   ],
   "source": [
    "nltk.pos_tag(tokens)"
   ]
  }
 ],
 "metadata": {
  "kernelspec": {
   "display_name": "Python 3",
   "language": "python",
   "name": "python3"
  },
  "language_info": {
   "codemirror_mode": {
    "name": "ipython",
    "version": 3
   },
   "file_extension": ".py",
   "mimetype": "text/x-python",
   "name": "python",
   "nbconvert_exporter": "python",
   "pygments_lexer": "ipython3",
   "version": "3.9.1"
  }
 },
 "nbformat": 4,
 "nbformat_minor": 4
}
