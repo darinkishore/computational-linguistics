{
 "cells": [
  {
   "cell_type": "markdown",
   "metadata": {},
   "source": [
    "# Tokenization\n",
    "\n",
    "Most NLP applications require input text to be tokenized where each token represents a meaningful linguistic unit such as a word.\n",
    "\n",
    "## Contents\n",
    "\n",
    "* [Split by Whitespace](#Split-by-Whitespace)\n",
    "* [Substring Matching](#Substring-Matching)\n",
    "* [Function Definition](#Function-Definition)\n",
    "* [Exercise](#Exercise)"
   ]
  },
  {
   "cell_type": "markdown",
   "metadata": {},
   "source": [
    "### Split by Whitespace\n",
    "\n",
    "It is easy to tokenize a string by whitespace using the `split()` function."
   ]
  },
  {
   "cell_type": "code",
   "execution_count": 10,
   "metadata": {},
   "outputs": [
    {
     "name": "stdout",
     "output_type": "stream",
     "text": [
      "['Mr.', 'Wayne', 'is', 'Batman']\n"
     ]
    }
   ],
   "source": [
    "text = 'Mr. Wayne is Batman'\n",
    "tokens = text.split()\n",
    "print(tokens)"
   ]
  },
  {
   "cell_type": "markdown",
   "metadata": {},
   "source": [
    "* [`str.split(sep=None, maxsplit=-1)`](https://docs.python.org/3/library/stdtypes.html?highlight=split#str.split)"
   ]
  },
  {
   "cell_type": "markdown",
   "metadata": {},
   "source": [
    "However, splitting by whitespaces can cause the resulting tokens to be noisy:"
   ]
  },
  {
   "cell_type": "code",
   "execution_count": 11,
   "metadata": {},
   "outputs": [
    {
     "name": "stdout",
     "output_type": "stream",
     "text": [
      "['Mr.', 'Wayne', \"isn't\", 'the', 'hero', 'we', 'need,', 'but', '\"the', 'one\"', 'we', 'deserve.']\n"
     ]
    }
   ],
   "source": [
    "text = 'Mr. Wayne isn\\'t the hero we need, but \"the one\" we deserve.'\n",
    "tokens = text.split()\n",
    "print(tokens)"
   ]
  },
  {
   "cell_type": "markdown",
   "metadata": {},
   "source": [
    "* `\"isn't\"` &rarr; `['is', \"n't\"]`\n",
    "* `'need,'` &rarr; `['need', ',']`\n",
    "* `'\"the'` &rarr; `['\"', 'the']`\n",
    "* `'one\"'` &rarr; `['one', '\"']`\n",
    "* `'deserve.'` &rarr; `['deserve', '.']`"
   ]
  },
  {
   "cell_type": "markdown",
   "metadata": {},
   "source": [
    "### Substring Matching\n",
    "\n",
    "It is possible to resolve the above issues through subastring matching:"
   ]
  },
  {
   "cell_type": "code",
   "execution_count": 12,
   "metadata": {},
   "outputs": [
    {
     "name": "stdout",
     "output_type": "stream",
     "text": [
      "['Mr.', 'Wayne', 'is', \"n't\", 'the', 'hero', 'we', 'need', ',', 'but', '\"', 'the', 'one', '\"', 'we', 'deserve', '.']\n"
     ]
    }
   ],
   "source": [
    "STARTS = ['\"']\n",
    "ENDS = [\"n't\", '.', ',', '\"']\n",
    "\n",
    "new_tokens = []\n",
    "for token in tokens:\n",
    "    start = next((t for t in STARTS if token.startswith(t)), None)\n",
    "    if start:\n",
    "        n = len(start)\n",
    "        t1 = token[:n]\n",
    "        t2 = token[n:]\n",
    "        new_tokens.extend([t1, t2])\n",
    "        continue\n",
    "    \n",
    "    end = next((t for t in ENDS if token.endswith(t)), None)\n",
    "    if end:\n",
    "        n = len(end)\n",
    "        t1 = token[:-n]\n",
    "        t2 = token[-n:]\n",
    "        if not (t1 == 'Mr' and t2 == '.'):\n",
    "            new_tokens.extend([t1, t2])\n",
    "            continue\n",
    "\n",
    "    new_tokens.append(token)\n",
    "\n",
    "print(new_tokens)"
   ]
  },
  {
   "cell_type": "markdown",
   "metadata": {},
   "source": [
    "* [List Comprehensions](https://docs.python.org/3/tutorial/datastructures.html#list-comprehensions)\n",
    "* [More on Lists](https://docs.python.org/3/tutorial/datastructures.html#more-on-lists)\n",
    "* [`next(iterator[, default])`](https://docs.python.org/3/library/functions.html#next)"
   ]
  },
  {
   "cell_type": "markdown",
   "metadata": {},
   "source": [
    "The first parameter in the `next()` function creates an iterator:"
   ]
  },
  {
   "cell_type": "code",
   "execution_count": 13,
   "metadata": {},
   "outputs": [
    {
     "name": "stdout",
     "output_type": "stream",
     "text": [
      "<generator object <genexpr> at 0x7fb228301890>\n"
     ]
    }
   ],
   "source": [
    "d = (t for t in STARTS if token.startswith(t))\n",
    "print(d)"
   ]
  },
  {
   "cell_type": "markdown",
   "metadata": {},
   "source": [
    "### Function Definition\n",
    "\n",
    "Let us convert the above code into a function:"
   ]
  },
  {
   "cell_type": "code",
   "execution_count": 14,
   "metadata": {},
   "outputs": [],
   "source": [
    "def tokenize_strmat_0(text):\n",
    "    tokens = text.split()\n",
    "    new_tokens = []\n",
    "    \n",
    "    for token in tokens:\n",
    "        start = next((t for t in STARTS if token.startswith(t)), None)\n",
    "        if start:\n",
    "            n = len(start)\n",
    "            t1 = token[:n]\n",
    "            t2 = token[n:]\n",
    "            new_tokens.extend([t1, t2])\n",
    "            continue\n",
    "\n",
    "        end = next((t for t in ENDS if token.endswith(t)), None)\n",
    "        if end:\n",
    "            n = len(end)\n",
    "            t1 = token[:-n]\n",
    "            t2 = token[-n:]\n",
    "            if not (t1 == 'Mr' and t2 == '.'):\n",
    "                new_tokens.extend([t1, t2])\n",
    "                continue\n",
    "\n",
    "        new_tokens.append(token)\n",
    "\n",
    "    return new_tokens"
   ]
  },
  {
   "cell_type": "code",
   "execution_count": 15,
   "metadata": {},
   "outputs": [
    {
     "name": "stdout",
     "output_type": "stream",
     "text": [
      "['Mr.', 'Wayne', 'is', \"n't\", 'the', 'hero', 'we', 'need', ',', 'but', '\"', 'the', 'one', '\"', 'we', 'deserve', '.']\n"
     ]
    }
   ],
   "source": [
    "print(tokenize_strmat_0(text))"
   ]
  },
  {
   "cell_type": "markdown",
   "metadata": {},
   "source": [
    "### Exercise\n",
    "\n",
    "Let us consider the following example:"
   ]
  },
  {
   "cell_type": "code",
   "execution_count": 16,
   "metadata": {},
   "outputs": [
    {
     "name": "stdout",
     "output_type": "stream",
     "text": [
      "['Ms', '.', 'Wayne', 'is', '\"', 'Batgirl\"', 'but', 'not', '\"', 'the', 'one\"', '.']\n"
     ]
    }
   ],
   "source": [
    "text = 'Ms. Wayne is \"Batgirl\" but not \"the one\".'\n",
    "print(tokenize_strmat_0(text))"
   ]
  },
  {
   "cell_type": "markdown",
   "metadata": {},
   "source": [
    "* `['Ms', '.']` &rarr; `'Ms.'`\n",
    "* `'Batgirl\"'` &rarr; `['Batgirl', '\"']`\n",
    "* `'one\"'` &rarr; `['one', '\"']`"
   ]
  },
  {
   "cell_type": "markdown",
   "metadata": {},
   "source": [
    "**Modify the `tokenize_strmat()` function to handle the above example.**\n",
    "\n",
    "Expected output:\n",
    "```python\n",
    "['Ms.', 'Wayne', 'is', '\"', 'Batgirl', '\"', 'but', 'not', '\"', 'the', 'one', '\"', '.']\n",
    "```"
   ]
  },
  {
   "cell_type": "code",
   "execution_count": 17,
   "metadata": {},
   "outputs": [],
   "source": [
    "def tokenize_strmat_1(text):\n",
    "    tokens = text.split()\n",
    "    new_tokens = []\n",
    "    # to be filled\n",
    "    return new_tokens"
   ]
  }
 ],
 "metadata": {
  "kernelspec": {
   "display_name": "Python 3",
   "language": "python",
   "name": "python3"
  },
  "language_info": {
   "codemirror_mode": {
    "name": "ipython",
    "version": 3
   },
   "file_extension": ".py",
   "mimetype": "text/x-python",
   "name": "python",
   "nbconvert_exporter": "python",
   "pygments_lexer": "ipython3",
   "version": "3.9.1"
  }
 },
 "nbformat": 4,
 "nbformat_minor": 4
}
